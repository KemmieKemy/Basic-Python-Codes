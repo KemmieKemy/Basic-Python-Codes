{
 "cells": [
  {
   "cell_type": "markdown",
   "metadata": {},
   "source": [
    "# Count Words in a Sentence\n",
    "This program gets a sentence from a user and outputs the sentence and the total number of words."
   ]
  },
  {
   "cell_type": "code",
   "execution_count": 1,
   "metadata": {},
   "outputs": [
    {
     "name": "stdout",
     "output_type": "stream",
     "text": [
      "Type a sentence: I want to know how many words are in this sentence\n"
     ]
    }
   ],
   "source": [
    "#Get sentence from user\n",
    "text = str(input (\"Type a sentence: \"))"
   ]
  },
  {
   "cell_type": "code",
   "execution_count": 2,
   "metadata": {},
   "outputs": [
    {
     "name": "stdout",
     "output_type": "stream",
     "text": [
      "The Sentence is : I want to know how many words are in this sentence\n",
      "The number of words in the sentence are : 11\n"
     ]
    }
   ],
   "source": [
    "#Word Count\n",
    "count = len(text.split()) # using split() function\n",
    "\n",
    "#The sentence\n",
    "print (f\"The Sentence is : {text}\")\n",
    "\n",
    "# Number of of words\n",
    "print (f\"The number of words in the sentence are : {count}\")"
   ]
  }
 ],
 "metadata": {
  "kernelspec": {
   "display_name": "Python 3",
   "language": "python",
   "name": "python3"
  },
  "language_info": {
   "codemirror_mode": {
    "name": "ipython",
    "version": 3
   },
   "file_extension": ".py",
   "mimetype": "text/x-python",
   "name": "python",
   "nbconvert_exporter": "python",
   "pygments_lexer": "ipython3",
   "version": "3.7.6"
  }
 },
 "nbformat": 4,
 "nbformat_minor": 4
}
